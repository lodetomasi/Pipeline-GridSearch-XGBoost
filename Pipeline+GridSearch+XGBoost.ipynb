{
  "nbformat": 4,
  "nbformat_minor": 0,
  "metadata": {
    "colab": {
      "name": "Pipeline+GridSearch+XGBoost.ipynb",
      "version": "0.3.2",
      "provenance": [],
      "include_colab_link": true
    },
    "kernelspec": {
      "name": "python3",
      "display_name": "Python 3"
    }
  },
  "cells": [
    {
      "cell_type": "markdown",
      "metadata": {
        "id": "view-in-github",
        "colab_type": "text"
      },
      "source": [
        "<a href=\"https://colab.research.google.com/github/lodetomasi/Pipeline-GridSearch-XGBoost/blob/master/Pipeline%2BGridSearch%2BXGBoost.ipynb\" target=\"_parent\"><img src=\"https://colab.research.google.com/assets/colab-badge.svg\" alt=\"Open In Colab\"/></a>"
      ]
    },
    {
      "cell_type": "code",
      "metadata": {
        "id": "4KGS9KtUyU4p",
        "colab_type": "code",
        "colab": {}
      },
      "source": [
        "import xgboost as xgb\n",
        "import pandas as pd\n",
        "import numpy as np\n",
        "from skopt import BayesSearchCV\n",
        "from sklearn.model_selection import StratifiedKFold\n",
        "from sklearn.model_selection import train_test_split\n",
        "from sklearn.preprocessing import StandardScaler\n",
        "from sklearn import preprocessing \n",
        "from sklearn.model_selection import GridSearchCV\n"
      ],
      "execution_count": 0,
      "outputs": []
    },
    {
      "cell_type": "code",
      "metadata": {
        "id": "Qfuza9tEzObj",
        "colab_type": "code",
        "colab": {}
      },
      "source": [
        "df = pd.read_csv('Iris.csv')\n",
        "# label_encoder object knows how to understand word labels. \n",
        "label_encoder = preprocessing.LabelEncoder() \n",
        "  \n",
        "# Encode labels in column 'species'. \n",
        "df['Species']= label_encoder.fit_transform(df['Species']) \n",
        "\n",
        "#creo features and label set\n",
        "X = df.iloc[:,:-1]\n",
        "y = df['Species']\n",
        "\n",
        "\n",
        "#splitto i dati \n",
        "X_train, X_test, y_train, y_test = train_test_split(X, y, test_size = 0.33, random_state=500)"
      ],
      "execution_count": 0,
      "outputs": []
    },
    {
      "cell_type": "code",
      "metadata": {
        "id": "scn7_JyN1kZH",
        "colab_type": "code",
        "colab": {}
      },
      "source": [
        "#List of parameters\n",
        "\n",
        "search_spaces = {\n",
        "        'classificator__learning_rate': (0.01, 1.0),\n",
        "        'classificator__max_depth': (0, 50),\n",
        "        'classificator__max_delta_step': (0, 20),\n",
        "        'classificator__subsample': (0.01, 1.0),\n",
        "        'classificator__colsample_bytree': (0.01, 1.0),\n",
        "        'classificator__colsample_bylevel': (0.01, 1.0),\n",
        "        'classificator__reg_lambda': (1e-9, 1000),\n",
        "        'classificator__reg_alpha': (1e-9, 1.0),\n",
        "        'classificator__gamma': (1e-9, 0.5),\n",
        "        'classificator__min_child_weight': (0, 5),\n",
        "        'classificator__n_estimators': (50, 100),\n",
        "        'classificator__scale_pos_weight': (1e-6, 500)}"
      ],
      "execution_count": 0,
      "outputs": []
    },
    {
      "cell_type": "code",
      "metadata": {
        "id": "OO-q83FuzOB4",
        "colab_type": "code",
        "outputId": "5a61fd17-431c-4385-d09e-5526729eedcb",
        "colab": {
          "base_uri": "https://localhost:8080/",
          "height": 119
        }
      },
      "source": [
        "#Create the pipeline\n",
        "scaler = StandardScaler()\n",
        "xgboost = xgb.XGBClassifier()\n",
        "X_train = scaler.fit_transform(X_train)\n",
        "xgboost.fit(X_train,y_train)\n",
        "from sklearn.pipeline import Pipeline\n",
        "pipeline = Pipeline([('scaler', StandardScaler()),('classificator', xgb.XGBClassifier())])\n",
        "pipe = pipe.fit(X_train, y_train)\n"
      ],
      "execution_count": 60,
      "outputs": [
        {
          "output_type": "execute_result",
          "data": {
            "text/plain": [
              "XGBClassifier(base_score=0.5, booster='gbtree', colsample_bylevel=1,\n",
              "       colsample_bytree=1, gamma=0, learning_rate=0.1, max_delta_step=0,\n",
              "       max_depth=3, min_child_weight=1, missing=None, n_estimators=100,\n",
              "       n_jobs=1, nthread=None, objective='multi:softprob', random_state=0,\n",
              "       reg_alpha=0, reg_lambda=1, scale_pos_weight=1, seed=None,\n",
              "       silent=True, subsample=1)"
            ]
          },
          "metadata": {
            "tags": []
          },
          "execution_count": 60
        }
      ]
    },
    {
      "cell_type": "code",
      "metadata": {
        "id": "RbZHG6O61D8_",
        "colab_type": "code",
        "outputId": "8b11d38e-17a8-436c-cecb-cb1deadfb7f9",
        "colab": {
          "base_uri": "https://localhost:8080/",
          "height": 156
        }
      },
      "source": [
        "Performing hyperparameters tuning using GridSearchCV\n",
        "gridsearch = GridSearchCV(pipe, search_spaces).fit(X_train, y_train)\n",
        "print('Score', gridsearch.score(X_test, y_test))"
      ],
      "execution_count": 63,
      "outputs": [
        {
          "output_type": "stream",
          "text": [
            "/usr/local/lib/python3.6/dist-packages/sklearn/model_selection/_split.py:2053: FutureWarning: You should specify a value for 'cv' instead of relying on the default value. The default value will change from 3 to 5 in version 0.22.\n",
            "  warnings.warn(CV_WARNING, FutureWarning)\n"
          ],
          "name": "stderr"
        },
        {
          "output_type": "stream",
          "text": [
            "Score finale di test:  0.38\n"
          ],
          "name": "stdout"
        },
        {
          "output_type": "stream",
          "text": [
            "/usr/local/lib/python3.6/dist-packages/sklearn/model_selection/_search.py:841: DeprecationWarning: The default of the `iid` parameter will change from True to False in version 0.22 and will be removed in 0.24. This will change numeric results when test-set sizes are unequal.\n",
            "  DeprecationWarning)\n",
            "/usr/local/lib/python3.6/dist-packages/sklearn/pipeline.py:511: DataConversionWarning: Data with input dtype int64, float64 were all converted to float64 by StandardScaler.\n",
            "  Xt = transform.transform(Xt)\n"
          ],
          "name": "stderr"
        }
      ]
    },
    {
      "cell_type": "code",
      "metadata": {
        "id": "oNQ-ehI33U6e",
        "colab_type": "code",
        "colab": {
          "base_uri": "https://localhost:8080/",
          "height": 221
        },
        "outputId": "dcaa227b-23f7-4bc6-d3e1-0910c6e7b742"
      },
      "source": [
        "#Best parameters\n",
        "gridsearch.best_params_"
      ],
      "execution_count": 64,
      "outputs": [
        {
          "output_type": "execute_result",
          "data": {
            "text/plain": [
              "{'classificator__colsample_bylevel': 0.01,\n",
              " 'classificator__colsample_bytree': 0.01,\n",
              " 'classificator__gamma': 0.5,\n",
              " 'classificator__learning_rate': 1.0,\n",
              " 'classificator__max_delta_step': 0,\n",
              " 'classificator__max_depth': 50,\n",
              " 'classificator__min_child_weight': 5,\n",
              " 'classificator__n_estimators': 50,\n",
              " 'classificator__reg_alpha': 1e-09,\n",
              " 'classificator__reg_lambda': 1e-09,\n",
              " 'classificator__scale_pos_weight': 1e-06,\n",
              " 'classificator__subsample': 1.0}"
            ]
          },
          "metadata": {
            "tags": []
          },
          "execution_count": 64
        }
      ]
    },
    {
      "cell_type": "code",
      "metadata": {
        "id": "BBOZ9x8b4DqW",
        "colab_type": "code",
        "colab": {}
      },
      "source": [
        ""
      ],
      "execution_count": 0,
      "outputs": []
    }
  ]
}
